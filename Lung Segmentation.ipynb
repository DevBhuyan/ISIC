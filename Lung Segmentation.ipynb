{
 "cells": [
  {
   "cell_type": "code",
   "execution_count": 1,
   "id": "fa084de9",
   "metadata": {},
   "outputs": [
    {
     "name": "stderr",
     "output_type": "stream",
     "text": [
      "2023-02-15 00:07:37.891015: I tensorflow/core/platform/cpu_feature_guard.cc:193] This TensorFlow binary is optimized with oneAPI Deep Neural Network Library (oneDNN) to use the following CPU instructions in performance-critical operations:  AVX2 AVX_VNNI FMA\n",
      "To enable them in other operations, rebuild TensorFlow with the appropriate compiler flags.\n",
      "2023-02-15 00:07:37.983879: I tensorflow/core/util/port.cc:104] oneDNN custom operations are on. You may see slightly different numerical results due to floating-point round-off errors from different computation orders. To turn them off, set the environment variable `TF_ENABLE_ONEDNN_OPTS=0`.\n",
      "2023-02-15 00:07:37.986421: W tensorflow/compiler/xla/stream_executor/platform/default/dso_loader.cc:64] Could not load dynamic library 'libcudart.so.11.0'; dlerror: libcudart.so.11.0: cannot open shared object file: No such file or directory\n",
      "2023-02-15 00:07:37.986435: I tensorflow/compiler/xla/stream_executor/cuda/cudart_stub.cc:29] Ignore above cudart dlerror if you do not have a GPU set up on your machine.\n",
      "2023-02-15 00:07:38.422665: W tensorflow/compiler/xla/stream_executor/platform/default/dso_loader.cc:64] Could not load dynamic library 'libnvinfer.so.7'; dlerror: libnvinfer.so.7: cannot open shared object file: No such file or directory\n",
      "2023-02-15 00:07:38.422708: W tensorflow/compiler/xla/stream_executor/platform/default/dso_loader.cc:64] Could not load dynamic library 'libnvinfer_plugin.so.7'; dlerror: libnvinfer_plugin.so.7: cannot open shared object file: No such file or directory\n",
      "2023-02-15 00:07:38.422712: W tensorflow/compiler/tf2tensorrt/utils/py_utils.cc:38] TF-TRT Warning: Cannot dlopen some TensorRT libraries. If you would like to use Nvidia GPU with TensorRT, please make sure the missing libraries mentioned above are installed properly.\n"
     ]
    },
    {
     "name": "stdout",
     "output_type": "stream",
     "text": [
      "Segmentation Models: using `tf.keras` framework.\n"
     ]
    }
   ],
   "source": [
    "import segmentation_models as sm\n",
    "import tensorflow as tf\n",
    "tf.config.run_functions_eagerly(True)\n",
    "from fetch_data import fetch\n",
    "from tensorflow.keras.callbacks import ModelCheckpoint, ReduceLROnPlateau\n",
    "from tensorflow.keras.optimizers import Adam\n",
    "import numpy as np\n",
    "import matplotlib.pyplot as plt"
   ]
  },
  {
   "cell_type": "code",
   "execution_count": 2,
   "id": "b4def91e",
   "metadata": {},
   "outputs": [],
   "source": [
    "base_dir = '/media/dev/WinD/Curious Dev B/PROJECT - 1/COVID-19 for segmentation/'\n",
    "batch_size = 16\n",
    "input_size = (224, 224)\n",
    "num_epochs = 5\n",
    "metrics = [sm.metrics.IOUScore(threshold=0.5), sm.metrics.FScore(threshold=0.5)]\n",
    "\n",
    "callbacks = [ModelCheckpoint('./lung_best_model.h5', \n",
    "                             save_weights_only=True, \n",
    "                             save_best_only=True, \n",
    "                             mode='min'),\n",
    "            ReduceLROnPlateau(monitor = \"val_iou_score\",\n",
    "                             factor = 0.2,\n",
    "                             patience = 5)]"
   ]
  },
  {
   "cell_type": "code",
   "execution_count": 3,
   "id": "3dc2904c",
   "metadata": {},
   "outputs": [],
   "source": [
    "def visualize(**images):\n",
    "    \"\"\"PLot images in one row.\"\"\"\n",
    "    n = len(images)\n",
    "    plt.figure(figsize=(16, 5))\n",
    "    for i, (name, image) in enumerate(images.items()):\n",
    "        plt.subplot(1, n, i + 1)\n",
    "        plt.xticks([])\n",
    "        plt.yticks([])\n",
    "        plt.title(' '.join(name.split('_')).title())\n",
    "        plt.imshow(image)\n",
    "    plt.show()\n",
    "    \n",
    "def denormalize(x):\n",
    "    x_max = np.percentile(x, 98)\n",
    "    x_min = np.percentile(x, 2)    \n",
    "    x = (x - x_min) / (x_max - x_min)\n",
    "    x = x.clip(0, 1)\n",
    "    return x"
   ]
  },
  {
   "cell_type": "code",
   "execution_count": 4,
   "id": "811f1ee5",
   "metadata": {},
   "outputs": [
    {
     "name": "stderr",
     "output_type": "stream",
     "text": [
      "2023-02-15 00:07:39.581944: W tensorflow/compiler/xla/stream_executor/platform/default/dso_loader.cc:64] Could not load dynamic library 'libcuda.so.1'; dlerror: libcuda.so.1: cannot open shared object file: No such file or directory\n",
      "2023-02-15 00:07:39.581974: W tensorflow/compiler/xla/stream_executor/cuda/cuda_driver.cc:265] failed call to cuInit: UNKNOWN ERROR (303)\n",
      "2023-02-15 00:07:39.581988: I tensorflow/compiler/xla/stream_executor/cuda/cuda_diagnostics.cc:156] kernel driver does not appear to be running on this host (Turbo): /proc/driver/nvidia/version does not exist\n",
      "2023-02-15 00:07:39.582237: I tensorflow/core/platform/cpu_feature_guard.cc:193] This TensorFlow binary is optimized with oneAPI Deep Neural Network Library (oneDNN) to use the following CPU instructions in performance-critical operations:  AVX2 AVX_VNNI FMA\n",
      "To enable them in other operations, rebuild TensorFlow with the appropriate compiler flags.\n",
      "/home/dev/anaconda3/lib/python3.9/site-packages/tensorflow/python/data/ops/structured_function.py:256: UserWarning: Even though the `tf.config.experimental_run_functions_eagerly` option is set, this option does not apply to tf.data functions. To force eager execution of tf.data functions, please use `tf.data.experimental.enable_debug_mode()`.\n",
      "  warnings.warn(\n"
     ]
    }
   ],
   "source": [
    "train_dataset, validation_dataset = fetch(base_dir, input_size)\n",
    "\n",
    "train_dataset = train_dataset.batch(batch_size)\n",
    "train_dataset = train_dataset.shuffle(buffer_size=1024)\n",
    "\n",
    "validation_dataset = validation_dataset.batch(1)"
   ]
  },
  {
   "cell_type": "code",
   "execution_count": 5,
   "id": "3a80f228",
   "metadata": {
    "scrolled": true
   },
   "outputs": [
    {
     "name": "stdout",
     "output_type": "stream",
     "text": [
      "Downloading data from https://github.com/Callidior/keras-applications/releases/download/efficientnet/efficientnet-b4_weights_tf_dim_ordering_tf_kernels_autoaugment_notop.h5\n",
      "71892840/71892840 [==============================] - 32s 0us/step\n"
     ]
    }
   ],
   "source": [
    "model = sm.Unet(backbone_name = \"efficientnetb4\",\n",
    "                   input_shape=(224, 224, 3))\n",
    "\n",
    "model.compile(optimizer=Adam(learning_rate = 0.001), \n",
    "              loss='binary_crossentropy', \n",
    "              metrics=metrics)"
   ]
  },
  {
   "cell_type": "code",
   "execution_count": null,
   "id": "b906298b",
   "metadata": {},
   "outputs": [
    {
     "name": "stdout",
     "output_type": "stream",
     "text": [
      "Epoch 1/5\n",
      "75/75 [==============================] - 672s 9s/step - loss: 0.1819 - iou_score: 0.8519 - f1-score: 0.9110 - val_loss: 0.9116 - val_iou_score: 0.5762 - val_f1-score: 0.7249 - lr: 0.0010\n",
      "Epoch 2/5\n",
      "75/75 [==============================] - 674s 9s/step - loss: 0.0573 - iou_score: 0.9298 - f1-score: 0.9635 - val_loss: 0.0792 - val_iou_score: 0.9043 - val_f1-score: 0.9495 - lr: 0.0010\n",
      "Epoch 3/5\n",
      "75/75 [==============================] - 674s 9s/step - loss: 0.0431 - iou_score: 0.9429 - f1-score: 0.9705 - val_loss: 0.0431 - val_iou_score: 0.9355 - val_f1-score: 0.9665 - lr: 0.0010\n",
      "Epoch 4/5\n",
      "75/75 [==============================] - 675s 9s/step - loss: 0.0376 - iou_score: 0.9478 - f1-score: 0.9731 - val_loss: 0.0368 - val_iou_score: 0.9420 - val_f1-score: 0.9700 - lr: 0.0010\n",
      "Epoch 5/5\n",
      "22/75 [=======>......................] - ETA: 6:55 - loss: 0.0338 - iou_score: 0.9532 - f1-score: 0.9760"
     ]
    }
   ],
   "source": [
    "history = model.fit(train_dataset, epochs=num_epochs,\n",
    "                    validation_data=validation_dataset,\n",
    "                    callbacks=callbacks)"
   ]
  },
  {
   "cell_type": "code",
   "execution_count": null,
   "id": "746a2935",
   "metadata": {},
   "outputs": [],
   "source": [
    "model.load_weights('lung_best_model.h5') "
   ]
  },
  {
   "cell_type": "code",
   "execution_count": null,
   "id": "993575ad",
   "metadata": {},
   "outputs": [],
   "source": [
    "scores = model.evaluate(validation_dataset)\n",
    "\n",
    "print(\"Loss: {:.5}\".format(scores[0]))\n",
    "for metric, value in zip(metrics, scores[1:]):\n",
    "    print(\"mean {}: {:.5}\".format(metric.__name__, value))"
   ]
  },
  {
   "cell_type": "code",
   "execution_count": null,
   "id": "de9fc92f",
   "metadata": {
    "scrolled": false
   },
   "outputs": [],
   "source": [
    "for batch in validation_dataset:\n",
    "    image, gt_mask = batch\n",
    "    image = image.numpy()\n",
    "    gt_mask = gt_mask.numpy()\n",
    "    pr_mask = model.predict(image).round()\n",
    "    \n",
    "    visualize(\n",
    "        image=denormalize(image.squeeze()),\n",
    "        gt_mask=gt_mask[..., 0].squeeze(),\n",
    "        pr_mask=pr_mask[..., 0].squeeze(),\n",
    "    )"
   ]
  },
  {
   "cell_type": "code",
   "execution_count": null,
   "id": "02cb498e",
   "metadata": {},
   "outputs": [],
   "source": [
    "# Resize all images to 224, 224. \n",
    "# Convert all images to grayscale"
   ]
  }
 ],
 "metadata": {
  "kernelspec": {
   "display_name": "Python 3 (ipykernel)",
   "language": "python",
   "name": "python3"
  },
  "language_info": {
   "codemirror_mode": {
    "name": "ipython",
    "version": 3
   },
   "file_extension": ".py",
   "mimetype": "text/x-python",
   "name": "python",
   "nbconvert_exporter": "python",
   "pygments_lexer": "ipython3",
   "version": "3.9.13"
  }
 },
 "nbformat": 4,
 "nbformat_minor": 5
}
