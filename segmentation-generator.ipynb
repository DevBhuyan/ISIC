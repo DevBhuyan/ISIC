{
 "cells": [
  {
   "cell_type": "code",
   "execution_count": null,
   "id": "8b1ceb5b",
   "metadata": {},
   "outputs": [],
   "source": [
    "!pip install segmentation-models\n",
    "!pip install --upgrade tensorflow"
   ]
  },
  {
   "cell_type": "code",
   "execution_count": null,
   "id": "a3c4afbb",
   "metadata": {},
   "outputs": [],
   "source": [
    "import sys\n",
    "sys.path.append('/kaggle/input/helper-scripts')\n",
    "sys.path.append('/kaggle/input/fetch1')"
   ]
  },
  {
   "cell_type": "code",
   "execution_count": null,
   "id": "b631cbaf",
   "metadata": {},
   "outputs": [],
   "source": [
    "%env SM_FRAMEWORK=tf.keras\n",
    "import segmentation_models as sm\n",
    "import tensorflow as tf\n",
    "tf.config.run_functions_eagerly(True)\n",
    "\n",
    "from fetch_data1 import fetch\n",
    "from tensorflow.keras.callbacks import ModelCheckpoint, ReduceLROnPlateau\n",
    "from tensorflow.keras.optimizers import Adam\n",
    "import numpy as np\n",
    "import matplotlib.pyplot as plt\n",
    "from visualise import visualize, denormalize"
   ]
  },
  {
   "cell_type": "code",
   "execution_count": null,
   "id": "927dbb73",
   "metadata": {},
   "outputs": [],
   "source": [
    "base_dir = '/kaggle/input/augmented2/ISIC 2016 for segmentation (augmented)/'\n",
    "batch_size = 4 \n",
    "input_size = (224, 224)\n",
    "num_epochs = 40\n",
    "shuffle = False\n",
    "ratio = 1\n",
    "grp = 0\n",
    "metrics = [sm.metrics.IOUScore(threshold=0.5), sm.metrics.FScore(threshold=0.5)]\n",
    "model_save = '2016_extend_best_model.h5'\n",
    "\n",
    "callbacks = [ModelCheckpoint('./'+model_save, \n",
    "                             monitor = \"val_iou_score\",\n",
    "                             save_weights_only=True, \n",
    "                             save_best_only=True, \n",
    "                             mode='max',\n",
    "                             initial_value_threshold = 0.0),\n",
    "            ReduceLROnPlateau(monitor = \"val_iou_score\",\n",
    "                             factor = 0.5,\n",
    "                             patience = 3,\n",
    "                             verbose = 1,\n",
    "                             mode = 'max')]"
   ]
  },
  {
   "cell_type": "code",
   "execution_count": null,
   "id": "d5d54357",
   "metadata": {},
   "outputs": [],
   "source": [
    "train_dataset, validation_dataset, val_paths = fetch(base_dir, input_size, grp, batch_size, shuffle, ratio)"
   ]
  },
  {
   "cell_type": "code",
   "execution_count": null,
   "id": "02f69425",
   "metadata": {},
   "outputs": [],
   "source": [
    "model = sm.Unet(backbone_name = \"densenet201\",\n",
    "                   input_shape=(224, 224, 3))\n",
    "\n",
    "model.compile(optimizer=Adam(learning_rate = 8e-6), \n",
    "              loss=sm.losses.bce_dice_loss, \n",
    "              metrics=metrics)\n",
    "\n",
    "print(len(model.layers))\n",
    "model.summary()"
   ]
  },
  {
   "cell_type": "code",
   "execution_count": null,
   "id": "014d76e5",
   "metadata": {},
   "outputs": [],
   "source": [
    "model.load_weights('/kaggle/input/extend-model/2016_extend_best_model.h5') "
   ]
  },
  {
   "cell_type": "code",
   "execution_count": null,
   "id": "4fc2930f",
   "metadata": {},
   "outputs": [],
   "source": [
    "from PIL import Image\n",
    "import cv2\n",
    "for batch, val_path in zip(validation_dataset, val_paths):\n",
    "    img, gt_mask = batch\n",
    "    img = img.numpy()\n",
    "    gt_mask = gt_mask.numpy()\n",
    "    pr_mask = model.predict(img).round()\n",
    "    \n",
    "    visualize(\n",
    "        img=denormalize(img.squeeze()),\n",
    "        gt_mask=gt_mask[..., 0].squeeze(),\n",
    "        pr_mask=pr_mask[..., 0].squeeze(),\n",
    "    )\n",
    "    pr_mask = np.reshape(pr_mask[0], (224, 224))\n",
    "    mask = Image.fromarray((pr_mask*255).astype(np.uint8), mode = 'L')\n",
    "    print(np.unique((pr_mask*255).astype(np.uint8)))\n",
    "    mask.save(str(val_path[76:]))"
   ]
  }
 ],
 "metadata": {
  "kernelspec": {
   "display_name": "Python 3 (ipykernel)",
   "language": "python",
   "name": "python3"
  },
  "language_info": {
   "codemirror_mode": {
    "name": "ipython",
    "version": 3
   },
   "file_extension": ".py",
   "mimetype": "text/x-python",
   "name": "python",
   "nbconvert_exporter": "python",
   "pygments_lexer": "ipython3",
   "version": "3.9.13"
  }
 },
 "nbformat": 4,
 "nbformat_minor": 5
}
