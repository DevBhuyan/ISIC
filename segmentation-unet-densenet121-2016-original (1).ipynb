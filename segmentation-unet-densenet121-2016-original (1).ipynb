{
 "cells": [
  {
   "cell_type": "code",
   "execution_count": 1,
   "id": "f8d8062c",
   "metadata": {
    "_cell_guid": "b1076dfc-b9ad-4769-8c92-a6c4dae69d19",
    "_uuid": "8f2839f25d086af736a60e9eeb907d3b93b6e0e5",
    "execution": {
     "iopub.execute_input": "2023-05-14T10:59:17.197773Z",
     "iopub.status.busy": "2023-05-14T10:59:17.197375Z",
     "iopub.status.idle": "2023-05-14T10:59:48.181039Z",
     "shell.execute_reply": "2023-05-14T10:59:48.180275Z"
    },
    "papermill": {
     "duration": 30.991545,
     "end_time": "2023-05-14T10:59:48.183732",
     "exception": false,
     "start_time": "2023-05-14T10:59:17.192187",
     "status": "completed"
    },
    "tags": []
   },
   "outputs": [
    {
     "name": "stdout",
     "output_type": "stream",
     "text": [
      "Collecting segmentation-models\r\n",
      "  Downloading segmentation_models-1.0.1-py3-none-any.whl (33 kB)\r\n",
      "Collecting efficientnet==1.0.0\r\n",
      "  Downloading efficientnet-1.0.0-py3-none-any.whl (17 kB)\r\n",
      "Collecting keras-applications<=1.0.8,>=1.0.7\r\n",
      "  Downloading Keras_Applications-1.0.8-py3-none-any.whl (50 kB)\r\n",
      "\u001b[2K     \u001b[90m━━━━━━━━━━━━━━━━━━━━━━━━━━━━━━━━━━━━━━━━\u001b[0m \u001b[32m50.7/50.7 kB\u001b[0m \u001b[31m3.4 MB/s\u001b[0m eta \u001b[36m0:00:00\u001b[0m\r\n",
      "\u001b[?25hCollecting image-classifiers==1.0.0\r\n",
      "  Downloading image_classifiers-1.0.0-py3-none-any.whl (19 kB)\r\n",
      "Requirement already satisfied: scikit-image in /opt/conda/lib/python3.7/site-packages (from efficientnet==1.0.0->segmentation-models) (0.19.3)\r\n",
      "Requirement already satisfied: numpy>=1.9.1 in /opt/conda/lib/python3.7/site-packages (from keras-applications<=1.0.8,>=1.0.7->segmentation-models) (1.21.6)\r\n",
      "Requirement already satisfied: h5py in /opt/conda/lib/python3.7/site-packages (from keras-applications<=1.0.8,>=1.0.7->segmentation-models) (3.8.0)\r\n",
      "Requirement already satisfied: networkx>=2.2 in /opt/conda/lib/python3.7/site-packages (from scikit-image->efficientnet==1.0.0->segmentation-models) (2.6.3)\r\n",
      "Requirement already satisfied: PyWavelets>=1.1.1 in /opt/conda/lib/python3.7/site-packages (from scikit-image->efficientnet==1.0.0->segmentation-models) (1.3.0)\r\n",
      "Requirement already satisfied: pillow!=7.1.0,!=7.1.1,!=8.3.0,>=6.1.0 in /opt/conda/lib/python3.7/site-packages (from scikit-image->efficientnet==1.0.0->segmentation-models) (9.4.0)\r\n",
      "Requirement already satisfied: tifffile>=2019.7.26 in /opt/conda/lib/python3.7/site-packages (from scikit-image->efficientnet==1.0.0->segmentation-models) (2021.11.2)\r\n",
      "Requirement already satisfied: scipy>=1.4.1 in /opt/conda/lib/python3.7/site-packages (from scikit-image->efficientnet==1.0.0->segmentation-models) (1.7.3)\r\n",
      "Requirement already satisfied: packaging>=20.0 in /opt/conda/lib/python3.7/site-packages (from scikit-image->efficientnet==1.0.0->segmentation-models) (23.0)\r\n",
      "Requirement already satisfied: imageio>=2.4.1 in /opt/conda/lib/python3.7/site-packages (from scikit-image->efficientnet==1.0.0->segmentation-models) (2.25.0)\r\n",
      "Installing collected packages: keras-applications, image-classifiers, efficientnet, segmentation-models\r\n",
      "Successfully installed efficientnet-1.0.0 image-classifiers-1.0.0 keras-applications-1.0.8 segmentation-models-1.0.1\r\n",
      "\u001b[33mWARNING: Running pip as the 'root' user can result in broken permissions and conflicting behaviour with the system package manager. It is recommended to use a virtual environment instead: https://pip.pypa.io/warnings/venv\u001b[0m\u001b[33m\r\n",
      "\u001b[0mRequirement already satisfied: tensorflow in /opt/conda/lib/python3.7/site-packages (2.11.0)\r\n",
      "Requirement already satisfied: tensorboard<2.12,>=2.11 in /opt/conda/lib/python3.7/site-packages (from tensorflow) (2.11.2)\r\n",
      "Collecting protobuf<3.20,>=3.9.2\r\n",
      "  Downloading protobuf-3.19.6-cp37-cp37m-manylinux_2_17_x86_64.manylinux2014_x86_64.whl (1.1 MB)\r\n",
      "\u001b[2K     \u001b[90m━━━━━━━━━━━━━━━━━━━━━━━━━━━━━━━━━━━━━━━━\u001b[0m \u001b[32m1.1/1.1 MB\u001b[0m \u001b[31m14.6 MB/s\u001b[0m eta \u001b[36m0:00:00\u001b[0m\r\n",
      "\u001b[?25hRequirement already satisfied: libclang>=13.0.0 in /opt/conda/lib/python3.7/site-packages (from tensorflow) (15.0.6.1)\r\n",
      "Requirement already satisfied: keras<2.12,>=2.11.0 in /opt/conda/lib/python3.7/site-packages (from tensorflow) (2.11.0)\r\n",
      "Requirement already satisfied: six>=1.12.0 in /opt/conda/lib/python3.7/site-packages (from tensorflow) (1.16.0)\r\n",
      "Requirement already satisfied: tensorflow-estimator<2.12,>=2.11.0 in /opt/conda/lib/python3.7/site-packages (from tensorflow) (2.11.0)\r\n",
      "Requirement already satisfied: opt-einsum>=2.3.2 in /opt/conda/lib/python3.7/site-packages (from tensorflow) (3.3.0)\r\n",
      "Requirement already satisfied: grpcio<2.0,>=1.24.3 in /opt/conda/lib/python3.7/site-packages (from tensorflow) (1.51.1)\r\n",
      "Requirement already satisfied: typing-extensions>=3.6.6 in /opt/conda/lib/python3.7/site-packages (from tensorflow) (4.4.0)\r\n",
      "Requirement already satisfied: setuptools in /opt/conda/lib/python3.7/site-packages (from tensorflow) (59.8.0)\r\n",
      "Requirement already satisfied: numpy>=1.20 in /opt/conda/lib/python3.7/site-packages (from tensorflow) (1.21.6)\r\n",
      "Requirement already satisfied: flatbuffers>=2.0 in /opt/conda/lib/python3.7/site-packages (from tensorflow) (23.1.21)\r\n",
      "Requirement already satisfied: h5py>=2.9.0 in /opt/conda/lib/python3.7/site-packages (from tensorflow) (3.8.0)\r\n",
      "Requirement already satisfied: absl-py>=1.0.0 in /opt/conda/lib/python3.7/site-packages (from tensorflow) (1.4.0)\r\n",
      "Requirement already satisfied: google-pasta>=0.1.1 in /opt/conda/lib/python3.7/site-packages (from tensorflow) (0.2.0)\r\n",
      "Requirement already satisfied: gast<=0.4.0,>=0.2.1 in /opt/conda/lib/python3.7/site-packages (from tensorflow) (0.4.0)\r\n",
      "Requirement already satisfied: packaging in /opt/conda/lib/python3.7/site-packages (from tensorflow) (23.0)\r\n",
      "Requirement already satisfied: tensorflow-io-gcs-filesystem>=0.23.1 in /opt/conda/lib/python3.7/site-packages (from tensorflow) (0.29.0)\r\n",
      "Requirement already satisfied: wrapt>=1.11.0 in /opt/conda/lib/python3.7/site-packages (from tensorflow) (1.14.1)\r\n",
      "Requirement already satisfied: astunparse>=1.6.0 in /opt/conda/lib/python3.7/site-packages (from tensorflow) (1.6.3)\r\n",
      "Requirement already satisfied: termcolor>=1.1.0 in /opt/conda/lib/python3.7/site-packages (from tensorflow) (2.2.0)\r\n",
      "Requirement already satisfied: wheel<1.0,>=0.23.0 in /opt/conda/lib/python3.7/site-packages (from astunparse>=1.6.0->tensorflow) (0.38.4)\r\n",
      "Requirement already satisfied: werkzeug>=1.0.1 in /opt/conda/lib/python3.7/site-packages (from tensorboard<2.12,>=2.11->tensorflow) (2.2.3)\r\n",
      "Requirement already satisfied: google-auth-oauthlib<0.5,>=0.4.1 in /opt/conda/lib/python3.7/site-packages (from tensorboard<2.12,>=2.11->tensorflow) (0.4.6)\r\n",
      "Requirement already satisfied: tensorboard-data-server<0.7.0,>=0.6.0 in /opt/conda/lib/python3.7/site-packages (from tensorboard<2.12,>=2.11->tensorflow) (0.6.1)\r\n",
      "Requirement already satisfied: markdown>=2.6.8 in /opt/conda/lib/python3.7/site-packages (from tensorboard<2.12,>=2.11->tensorflow) (3.4.1)\r\n",
      "Requirement already satisfied: requests<3,>=2.21.0 in /opt/conda/lib/python3.7/site-packages (from tensorboard<2.12,>=2.11->tensorflow) (2.28.2)\r\n",
      "Requirement already satisfied: google-auth<3,>=1.6.3 in /opt/conda/lib/python3.7/site-packages (from tensorboard<2.12,>=2.11->tensorflow) (1.35.0)\r\n",
      "Requirement already satisfied: tensorboard-plugin-wit>=1.6.0 in /opt/conda/lib/python3.7/site-packages (from tensorboard<2.12,>=2.11->tensorflow) (1.8.1)\r\n",
      "Requirement already satisfied: pyasn1-modules>=0.2.1 in /opt/conda/lib/python3.7/site-packages (from google-auth<3,>=1.6.3->tensorboard<2.12,>=2.11->tensorflow) (0.2.8)\r\n",
      "Requirement already satisfied: rsa<5,>=3.1.4 in /opt/conda/lib/python3.7/site-packages (from google-auth<3,>=1.6.3->tensorboard<2.12,>=2.11->tensorflow) (4.9)\r\n",
      "Requirement already satisfied: cachetools<5.0,>=2.0.0 in /opt/conda/lib/python3.7/site-packages (from google-auth<3,>=1.6.3->tensorboard<2.12,>=2.11->tensorflow) (4.2.4)\r\n",
      "Requirement already satisfied: requests-oauthlib>=0.7.0 in /opt/conda/lib/python3.7/site-packages (from google-auth-oauthlib<0.5,>=0.4.1->tensorboard<2.12,>=2.11->tensorflow) (1.3.1)\r\n",
      "Requirement already satisfied: importlib-metadata>=4.4 in /opt/conda/lib/python3.7/site-packages (from markdown>=2.6.8->tensorboard<2.12,>=2.11->tensorflow) (4.11.4)\r\n",
      "Requirement already satisfied: urllib3<1.27,>=1.21.1 in /opt/conda/lib/python3.7/site-packages (from requests<3,>=2.21.0->tensorboard<2.12,>=2.11->tensorflow) (1.26.14)\r\n",
      "Requirement already satisfied: certifi>=2017.4.17 in /opt/conda/lib/python3.7/site-packages (from requests<3,>=2.21.0->tensorboard<2.12,>=2.11->tensorflow) (2022.12.7)\r\n",
      "Requirement already satisfied: idna<4,>=2.5 in /opt/conda/lib/python3.7/site-packages (from requests<3,>=2.21.0->tensorboard<2.12,>=2.11->tensorflow) (3.4)\r\n",
      "Requirement already satisfied: charset-normalizer<4,>=2 in /opt/conda/lib/python3.7/site-packages (from requests<3,>=2.21.0->tensorboard<2.12,>=2.11->tensorflow) (2.1.1)\r\n",
      "Requirement already satisfied: MarkupSafe>=2.1.1 in /opt/conda/lib/python3.7/site-packages (from werkzeug>=1.0.1->tensorboard<2.12,>=2.11->tensorflow) (2.1.1)\r\n",
      "Requirement already satisfied: zipp>=0.5 in /opt/conda/lib/python3.7/site-packages (from importlib-metadata>=4.4->markdown>=2.6.8->tensorboard<2.12,>=2.11->tensorflow) (3.11.0)\r\n",
      "Requirement already satisfied: pyasn1<0.5.0,>=0.4.6 in /opt/conda/lib/python3.7/site-packages (from pyasn1-modules>=0.2.1->google-auth<3,>=1.6.3->tensorboard<2.12,>=2.11->tensorflow) (0.4.8)\r\n",
      "Requirement already satisfied: oauthlib>=3.0.0 in /opt/conda/lib/python3.7/site-packages (from requests-oauthlib>=0.7.0->google-auth-oauthlib<0.5,>=0.4.1->tensorboard<2.12,>=2.11->tensorflow) (3.2.2)\r\n",
      "Installing collected packages: protobuf\r\n",
      "  Attempting uninstall: protobuf\r\n",
      "    Found existing installation: protobuf 3.20.3\r\n",
      "    Uninstalling protobuf-3.20.3:\r\n",
      "      Successfully uninstalled protobuf-3.20.3\r\n",
      "\u001b[31mERROR: pip's dependency resolver does not currently take into account all the packages that are installed. This behaviour is the source of the following dependency conflicts.\r\n",
      "tfx-bsl 1.12.0 requires google-api-python-client<2,>=1.7.11, but you have google-api-python-client 2.79.0 which is incompatible.\r\n",
      "onnx 1.13.1 requires protobuf<4,>=3.20.2, but you have protobuf 3.19.6 which is incompatible.\r\n",
      "apache-beam 2.44.0 requires dill<0.3.2,>=0.3.1.1, but you have dill 0.3.6 which is incompatible.\u001b[0m\u001b[31m\r\n",
      "\u001b[0mSuccessfully installed protobuf-3.19.6\r\n",
      "\u001b[33mWARNING: Running pip as the 'root' user can result in broken permissions and conflicting behaviour with the system package manager. It is recommended to use a virtual environment instead: https://pip.pypa.io/warnings/venv\u001b[0m\u001b[33m\r\n",
      "\u001b[0m"
     ]
    }
   ],
   "source": [
    "!pip install segmentation-models\n",
    "!pip install --upgrade tensorflow"
   ]
  },
  {
   "cell_type": "code",
   "execution_count": 2,
   "id": "d22ad0c5",
   "metadata": {
    "execution": {
     "iopub.execute_input": "2023-05-14T10:59:48.195084Z",
     "iopub.status.busy": "2023-05-14T10:59:48.194660Z",
     "iopub.status.idle": "2023-05-14T10:59:48.199373Z",
     "shell.execute_reply": "2023-05-14T10:59:48.198402Z"
    },
    "papermill": {
     "duration": 0.012615,
     "end_time": "2023-05-14T10:59:48.201268",
     "exception": false,
     "start_time": "2023-05-14T10:59:48.188653",
     "status": "completed"
    },
    "tags": []
   },
   "outputs": [],
   "source": [
    "import sys\n",
    "sys.path.append('/kaggle/input/helper-scripts')\n",
    "sys.path.append('/kaggle/input/fetch1')"
   ]
  },
  {
   "cell_type": "code",
   "execution_count": 3,
   "id": "37687134",
   "metadata": {
    "execution": {
     "iopub.execute_input": "2023-05-14T10:59:48.212094Z",
     "iopub.status.busy": "2023-05-14T10:59:48.211752Z",
     "iopub.status.idle": "2023-05-14T10:59:55.681081Z",
     "shell.execute_reply": "2023-05-14T10:59:55.679410Z"
    },
    "papermill": {
     "duration": 7.477674,
     "end_time": "2023-05-14T10:59:55.683589",
     "exception": false,
     "start_time": "2023-05-14T10:59:48.205915",
     "status": "completed"
    },
    "tags": []
   },
   "outputs": [
    {
     "name": "stdout",
     "output_type": "stream",
     "text": [
      "env: SM_FRAMEWORK=tf.keras\n",
      "Segmentation Models: using `tf.keras` framework.\n"
     ]
    }
   ],
   "source": [
    "%env SM_FRAMEWORK=tf.keras\n",
    "import segmentation_models as sm\n",
    "import tensorflow as tf\n",
    "tf.config.run_functions_eagerly(True)\n",
    "\n",
    "from fetch_data1 import fetch\n",
    "from tensorflow.keras.callbacks import ModelCheckpoint, ReduceLROnPlateau\n",
    "from tensorflow.keras.optimizers import Adam\n",
    "import numpy as np\n",
    "import matplotlib.pyplot as plt\n",
    "from visualise import visualize, denormalize\n",
    "import os\n",
    "import cv2"
   ]
  },
  {
   "cell_type": "code",
   "execution_count": 4,
   "id": "d96d6c5f",
   "metadata": {
    "execution": {
     "iopub.execute_input": "2023-05-14T10:59:55.695388Z",
     "iopub.status.busy": "2023-05-14T10:59:55.694716Z",
     "iopub.status.idle": "2023-05-14T10:59:55.702927Z",
     "shell.execute_reply": "2023-05-14T10:59:55.701936Z"
    },
    "papermill": {
     "duration": 0.016365,
     "end_time": "2023-05-14T10:59:55.705036",
     "exception": false,
     "start_time": "2023-05-14T10:59:55.688671",
     "status": "completed"
    },
    "tags": []
   },
   "outputs": [],
   "source": [
    "base_dir = '/kaggle/input/isic-2016/ISIC 2016 for segmentation (total)/ISIC 2016 for segmentation (total)/'\n",
    "batch_size = 4 \n",
    "input_size = (224, 224)\n",
    "num_epochs = 40\n",
    "shuffle = False\n",
    "ratio = 1\n",
    "grp = 0\n",
    "metrics = [sm.metrics.IOUScore(threshold=0.5), sm.metrics.FScore(threshold=0.5)]\n",
    "model_save = '2016_extend_best_model.h5'\n",
    "\n",
    "callbacks = [ModelCheckpoint('./'+model_save, \n",
    "                             monitor = \"val_iou_score\",\n",
    "                             save_weights_only=True, \n",
    "                             save_best_only=True, \n",
    "                             mode='max',\n",
    "                             initial_value_threshold = 0.0),\n",
    "            ReduceLROnPlateau(monitor = \"val_iou_score\",\n",
    "                             factor = 0.5,\n",
    "                             patience = 3,\n",
    "                             verbose = 1,\n",
    "                             mode = 'max')]"
   ]
  },
  {
   "cell_type": "code",
   "execution_count": 5,
   "id": "5fdba5ad",
   "metadata": {
    "execution": {
     "iopub.execute_input": "2023-05-14T10:59:55.716198Z",
     "iopub.status.busy": "2023-05-14T10:59:55.715899Z",
     "iopub.status.idle": "2023-05-14T10:59:57.245862Z",
     "shell.execute_reply": "2023-05-14T10:59:57.244547Z"
    },
    "papermill": {
     "duration": 1.53873,
     "end_time": "2023-05-14T10:59:57.248755",
     "exception": false,
     "start_time": "2023-05-14T10:59:55.710025",
     "status": "completed"
    },
    "tags": []
   },
   "outputs": [
    {
     "name": "stdout",
     "output_type": "stream",
     "text": [
      "train_images:  /kaggle/input/isic-2016/ISIC 2016 for segmentation (total)/ISIC 2016 for segmentation (total)/Train/IMAGES/\n",
      "no. of training images:  1279\n",
      "train_masks:  /kaggle/input/isic-2016/ISIC 2016 for segmentation (total)/ISIC 2016 for segmentation (total)/Train/MASKS/\n",
      "no. of training masks:  1279\n",
      "test_images:  /kaggle/input/isic-2016/ISIC 2016 for segmentation (total)/ISIC 2016 for segmentation (total)/Test/IMAGES/\n",
      "no. of test images:  1279\n",
      "test_masks:  /kaggle/input/isic-2016/ISIC 2016 for segmentation (total)/ISIC 2016 for segmentation (total)/Test/MASKS/\n",
      "no. of test masks:  1279\n"
     ]
    },
    {
     "name": "stderr",
     "output_type": "stream",
     "text": [
      "/opt/conda/lib/python3.7/site-packages/tensorflow/python/data/ops/structured_function.py:257: UserWarning: Even though the `tf.config.experimental_run_functions_eagerly` option is set, this option does not apply to tf.data functions. To force eager execution of tf.data functions, please use `tf.data.experimental.enable_debug_mode()`.\n",
      "  \"Even though the `tf.config.experimental_run_functions_eagerly` \"\n"
     ]
    }
   ],
   "source": [
    "train_dataset, validation_dataset, val_paths = fetch(base_dir, input_size, grp, batch_size, shuffle, ratio)"
   ]
  },
  {
   "cell_type": "code",
   "execution_count": 6,
   "id": "f0794664",
   "metadata": {
    "execution": {
     "iopub.execute_input": "2023-05-14T10:59:57.260358Z",
     "iopub.status.busy": "2023-05-14T10:59:57.260009Z",
     "iopub.status.idle": "2023-05-14T11:00:04.015494Z",
     "shell.execute_reply": "2023-05-14T11:00:04.014267Z"
    },
    "papermill": {
     "duration": 6.764002,
     "end_time": "2023-05-14T11:00:04.017940",
     "exception": false,
     "start_time": "2023-05-14T10:59:57.253938",
     "status": "completed"
    },
    "tags": []
   },
   "outputs": [
    {
     "name": "stdout",
     "output_type": "stream",
     "text": [
      "Downloading data from https://github.com/keras-team/keras-applications/releases/download/densenet/densenet201_weights_tf_dim_ordering_tf_kernels_notop.h5\n",
      "74836368/74836368 [==============================] - 0s 0us/step\n",
      "748\n"
     ]
    }
   ],
   "source": [
    "model = sm.Unet(backbone_name = \"densenet201\",\n",
    "                   input_shape=(224, 224, 3))\n",
    "\n",
    "model.compile(optimizer=Adam(learning_rate = 8e-6), \n",
    "              loss=sm.losses.bce_dice_loss, \n",
    "              metrics=metrics)\n",
    "\n",
    "print(len(model.layers))\n",
    "#model.summary()"
   ]
  },
  {
   "cell_type": "code",
   "execution_count": 7,
   "id": "33b12813",
   "metadata": {
    "execution": {
     "iopub.execute_input": "2023-05-14T11:00:04.031549Z",
     "iopub.status.busy": "2023-05-14T11:00:04.030677Z",
     "iopub.status.idle": "2023-05-14T11:00:07.072283Z",
     "shell.execute_reply": "2023-05-14T11:00:07.071171Z"
    },
    "papermill": {
     "duration": 3.051172,
     "end_time": "2023-05-14T11:00:07.075005",
     "exception": false,
     "start_time": "2023-05-14T11:00:04.023833",
     "status": "completed"
    },
    "tags": []
   },
   "outputs": [],
   "source": [
    "model.load_weights('/kaggle/input/extend-model/2016_extend_best_model.h5') "
   ]
  },
  {
   "cell_type": "code",
   "execution_count": 8,
   "id": "9c2185e8",
   "metadata": {
    "execution": {
     "iopub.execute_input": "2023-05-14T11:00:07.088158Z",
     "iopub.status.busy": "2023-05-14T11:00:07.087803Z",
     "iopub.status.idle": "2023-05-14T11:00:07.095219Z",
     "shell.execute_reply": "2023-05-14T11:00:07.093976Z"
    },
    "papermill": {
     "duration": 0.016285,
     "end_time": "2023-05-14T11:00:07.097145",
     "exception": false,
     "start_time": "2023-05-14T11:00:07.080860",
     "status": "completed"
    },
    "tags": []
   },
   "outputs": [
    {
     "data": {
      "text/plain": [
       "\"target_dir = '/kaggle/working/'\\nfrom tqdm import tqdm\\n\\nfor image_file in tqdm(os.listdir(base_dir), total=len(os.listdir(base_dir))):\\n    image_path = os.path.join(base_dir, image_file)\\n    image = cv2.imread(image_path)  \\n    print(image.shape)\\n    mask = model.predict(image).round()\\n    \\n    mask_path = os.path.join(target_dir, image_file)\\n    mask = np.reshape(mask[0], (224, 224))\\n    if not cv2.imwrite(mask_path, mask):  # Replace with your mask saving code\\n        raise Exception('Image not saved')\""
      ]
     },
     "execution_count": 8,
     "metadata": {},
     "output_type": "execute_result"
    }
   ],
   "source": [
    "'''target_dir = '/kaggle/working/'\n",
    "from tqdm import tqdm\n",
    "\n",
    "for image_file in tqdm(os.listdir(base_dir), total=len(os.listdir(base_dir))):\n",
    "    image_path = os.path.join(base_dir, image_file)\n",
    "    image = cv2.imread(image_path)  \n",
    "    print(image.shape)\n",
    "    mask = model.predict(image).round()\n",
    "    \n",
    "    mask_path = os.path.join(target_dir, image_file)\n",
    "    mask = np.reshape(mask[0], (224, 224))\n",
    "    if not cv2.imwrite(mask_path, mask):  # Replace with your mask saving code\n",
    "        raise Exception('Image not saved')'''"
   ]
  },
  {
   "cell_type": "code",
   "execution_count": null,
   "id": "016272ba",
   "metadata": {
    "papermill": {
     "duration": 0.005535,
     "end_time": "2023-05-14T11:00:07.108798",
     "exception": false,
     "start_time": "2023-05-14T11:00:07.103263",
     "status": "completed"
    },
    "tags": []
   },
   "outputs": [],
   "source": []
  },
  {
   "cell_type": "code",
   "execution_count": 9,
   "id": "49a67f39",
   "metadata": {
    "execution": {
     "iopub.execute_input": "2023-05-14T11:00:07.121895Z",
     "iopub.status.busy": "2023-05-14T11:00:07.121513Z",
     "iopub.status.idle": "2023-05-14T11:12:29.255656Z",
     "shell.execute_reply": "2023-05-14T11:12:29.254875Z"
    },
    "papermill": {
     "duration": 742.143132,
     "end_time": "2023-05-14T11:12:29.257536",
     "exception": false,
     "start_time": "2023-05-14T11:00:07.114404",
     "status": "completed"
    },
    "tags": []
   },
   "outputs": [
    {
     "name": "stdout",
     "output_type": "stream",
     "text": [
      "1279/1279 [==============================] - 735s 573ms/step - loss: 0.1371 - iou_score: 0.9121 - f1-score: 0.9518\n",
      "Loss: 0.13709\n",
      "mean iou_score: 0.91213\n",
      "mean f1-score: 0.95177\n"
     ]
    }
   ],
   "source": [
    "scores = model.evaluate(validation_dataset)\n",
    "\n",
    "print(\"Loss: {:.5}\".format(scores[0]))\n",
    "for metric, value in zip(metrics, scores[1:]):\n",
    "    print(\"mean {}: {:.5}\".format(metric.__name__, value))"
   ]
  },
  {
   "cell_type": "code",
   "execution_count": 10,
   "id": "468d0b6a",
   "metadata": {
    "execution": {
     "iopub.execute_input": "2023-05-14T11:12:29.414246Z",
     "iopub.status.busy": "2023-05-14T11:12:29.413046Z",
     "iopub.status.idle": "2023-05-14T11:12:29.420848Z",
     "shell.execute_reply": "2023-05-14T11:12:29.419708Z"
    },
    "papermill": {
     "duration": 0.088812,
     "end_time": "2023-05-14T11:12:29.422855",
     "exception": false,
     "start_time": "2023-05-14T11:12:29.334043",
     "status": "completed"
    },
    "tags": []
   },
   "outputs": [
    {
     "data": {
      "text/plain": [
       "\"from PIL import Image\\nimport cv2\\nfrom tqdm import tqdm\\nfor batch, val_path in tqdm(zip(validation_dataset, val_paths), total=1279):\\n    img, gt_mask = batch\\n    img = img.numpy()\\n    gt_mask = gt_mask.numpy()\\n    pr_mask = model.predict(img).round()\\n    \\n    visualize(\\n        img=denormalize(img.squeeze()),\\n        gt_mask=gt_mask[..., 0].squeeze(),\\n        pr_mask=pr_mask[..., 0].squeeze(),\\n    )\\n    pr_mask = np.reshape(pr_mask[0], (224, 224))\\n    mask = Image.fromarray((pr_mask*255).astype(np.uint8), mode = 'L')\\n    mask.save('/kaggle/working/'+str(val_path[-16:]))\""
      ]
     },
     "execution_count": 10,
     "metadata": {},
     "output_type": "execute_result"
    }
   ],
   "source": [
    "'''from PIL import Image\n",
    "import cv2\n",
    "from tqdm import tqdm\n",
    "for batch, val_path in tqdm(zip(validation_dataset, val_paths), total=1279):\n",
    "    img, gt_mask = batch\n",
    "    img = img.numpy()\n",
    "    gt_mask = gt_mask.numpy()\n",
    "    pr_mask = model.predict(img).round()\n",
    "    \n",
    "    visualize(\n",
    "        img=denormalize(img.squeeze()),\n",
    "        gt_mask=gt_mask[..., 0].squeeze(),\n",
    "        pr_mask=pr_mask[..., 0].squeeze(),\n",
    "    )\n",
    "    pr_mask = np.reshape(pr_mask[0], (224, 224))\n",
    "    mask = Image.fromarray((pr_mask*255).astype(np.uint8), mode = 'L')\n",
    "    mask.save('/kaggle/working/'+str(val_path[-16:]))'''"
   ]
  },
  {
   "cell_type": "code",
   "execution_count": null,
   "id": "e870af5f",
   "metadata": {
    "papermill": {
     "duration": 0.078279,
     "end_time": "2023-05-14T11:12:29.582018",
     "exception": false,
     "start_time": "2023-05-14T11:12:29.503739",
     "status": "completed"
    },
    "tags": []
   },
   "outputs": [],
   "source": []
  }
 ],
 "metadata": {
  "kernelspec": {
   "display_name": "Python 3",
   "language": "python",
   "name": "python3"
  },
  "language_info": {
   "codemirror_mode": {
    "name": "ipython",
    "version": 3
   },
   "file_extension": ".py",
   "mimetype": "text/x-python",
   "name": "python",
   "nbconvert_exporter": "python",
   "pygments_lexer": "ipython3",
   "version": "3.7.12"
  },
  "papermill": {
   "default_parameters": {},
   "duration": 805.115992,
   "end_time": "2023-05-14T11:12:33.122253",
   "environment_variables": {},
   "exception": null,
   "input_path": "__notebook__.ipynb",
   "output_path": "__notebook__.ipynb",
   "parameters": {},
   "start_time": "2023-05-14T10:59:08.006261",
   "version": "2.4.0"
  }
 },
 "nbformat": 4,
 "nbformat_minor": 5
}
